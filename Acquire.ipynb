{
 "cells": [
  {
   "cell_type": "code",
   "execution_count": 1,
   "id": "ed373439",
   "metadata": {},
   "outputs": [],
   "source": [
    "import requests\n",
    "from bs4 import BeautifulSoup\n",
    "import csv\n",
    "import urllib.request\n",
    "import codecs\n",
    "import pandas as pd\n"
   ]
  },
  {
   "cell_type": "code",
   "execution_count": 2,
   "id": "41e45f50",
   "metadata": {},
   "outputs": [],
   "source": [
    "def powerball_data(): \n",
    "\n",
    "    link = 'https://www.txlottery.org/export/sites/lottery/Games/Powerball/Winning_Numbers/download.html'\n",
    "    r = requests.get(link)\n",
    "    soup = BeautifulSoup(r.text, \"html.parser\")\n",
    "    l= []\n",
    "    for i in soup.find_all('a'):\n",
    "        if i.get('href')!=None:\n",
    "            if i.get('href')[0]!= \"/\" and i.get('href')[-3:]== \"csv\":\n",
    "                link = (i.get('href'))\n",
    "\n",
    "    url = link\n",
    "    response = urllib.request.urlopen(url)\n",
    "    cr = csv.reader(codecs.iterdecode(response, 'utf-8'))\n",
    "    a=[]\n",
    "    for row in cr:\n",
    "        a.append(row)\n",
    "\n",
    "    data = pd.DataFrame(a)\n",
    "    return data"
   ]
  },
  {
   "cell_type": "code",
   "execution_count": 3,
   "id": "2254ffcd",
   "metadata": {
    "scrolled": true
   },
   "outputs": [
    {
     "data": {
      "text/html": [
       "<div>\n",
       "<style scoped>\n",
       "    .dataframe tbody tr th:only-of-type {\n",
       "        vertical-align: middle;\n",
       "    }\n",
       "\n",
       "    .dataframe tbody tr th {\n",
       "        vertical-align: top;\n",
       "    }\n",
       "\n",
       "    .dataframe thead th {\n",
       "        text-align: right;\n",
       "    }\n",
       "</style>\n",
       "<table border=\"1\" class=\"dataframe\">\n",
       "  <thead>\n",
       "    <tr style=\"text-align: right;\">\n",
       "      <th></th>\n",
       "      <th>0</th>\n",
       "      <th>1</th>\n",
       "      <th>2</th>\n",
       "      <th>3</th>\n",
       "      <th>4</th>\n",
       "      <th>5</th>\n",
       "      <th>6</th>\n",
       "      <th>7</th>\n",
       "      <th>8</th>\n",
       "      <th>9</th>\n",
       "      <th>10</th>\n",
       "    </tr>\n",
       "  </thead>\n",
       "  <tbody>\n",
       "    <tr>\n",
       "      <th>1399</th>\n",
       "      <td>Powerball</td>\n",
       "      <td>11</td>\n",
       "      <td>16</td>\n",
       "      <td>2022</td>\n",
       "      <td>53</td>\n",
       "      <td>56</td>\n",
       "      <td>28</td>\n",
       "      <td>34</td>\n",
       "      <td>51</td>\n",
       "      <td>11</td>\n",
       "      <td>2</td>\n",
       "    </tr>\n",
       "    <tr>\n",
       "      <th>1400</th>\n",
       "      <td>Powerball</td>\n",
       "      <td>11</td>\n",
       "      <td>19</td>\n",
       "      <td>2022</td>\n",
       "      <td>62</td>\n",
       "      <td>63</td>\n",
       "      <td>28</td>\n",
       "      <td>7</td>\n",
       "      <td>64</td>\n",
       "      <td>10</td>\n",
       "      <td>3</td>\n",
       "    </tr>\n",
       "    <tr>\n",
       "      <th>1401</th>\n",
       "      <td>Powerball</td>\n",
       "      <td>11</td>\n",
       "      <td>21</td>\n",
       "      <td>2022</td>\n",
       "      <td>1</td>\n",
       "      <td>67</td>\n",
       "      <td>51</td>\n",
       "      <td>40</td>\n",
       "      <td>6</td>\n",
       "      <td>2</td>\n",
       "      <td>2</td>\n",
       "    </tr>\n",
       "    <tr>\n",
       "      <th>1402</th>\n",
       "      <td>Powerball</td>\n",
       "      <td>11</td>\n",
       "      <td>23</td>\n",
       "      <td>2022</td>\n",
       "      <td>31</td>\n",
       "      <td>2</td>\n",
       "      <td>1</td>\n",
       "      <td>39</td>\n",
       "      <td>66</td>\n",
       "      <td>25</td>\n",
       "      <td>2</td>\n",
       "    </tr>\n",
       "    <tr>\n",
       "      <th>1403</th>\n",
       "      <td>Powerball</td>\n",
       "      <td>11</td>\n",
       "      <td>26</td>\n",
       "      <td>2022</td>\n",
       "      <td>15</td>\n",
       "      <td>30</td>\n",
       "      <td>47</td>\n",
       "      <td>50</td>\n",
       "      <td>51</td>\n",
       "      <td>3</td>\n",
       "      <td>10</td>\n",
       "    </tr>\n",
       "  </tbody>\n",
       "</table>\n",
       "</div>"
      ],
      "text/plain": [
       "             0   1   2     3   4   5   6   7   8   9   10\n",
       "1399  Powerball  11  16  2022  53  56  28  34  51  11   2\n",
       "1400  Powerball  11  19  2022  62  63  28   7  64  10   3\n",
       "1401  Powerball  11  21  2022   1  67  51  40   6   2   2\n",
       "1402  Powerball  11  23  2022  31   2   1  39  66  25   2\n",
       "1403  Powerball  11  26  2022  15  30  47  50  51   3  10"
      ]
     },
     "execution_count": 3,
     "metadata": {},
     "output_type": "execute_result"
    }
   ],
   "source": [
    "df = powerball_data()\n",
    "df.tail()"
   ]
  },
  {
   "cell_type": "code",
   "execution_count": 4,
   "id": "867fe44a",
   "metadata": {},
   "outputs": [
    {
     "data": {
      "text/plain": [
       "RangeIndex(start=0, stop=11, step=1)"
      ]
     },
     "execution_count": 4,
     "metadata": {},
     "output_type": "execute_result"
    }
   ],
   "source": [
    "df.columns\n"
   ]
  },
  {
   "cell_type": "code",
   "execution_count": 5,
   "id": "a07bcef9",
   "metadata": {},
   "outputs": [],
   "source": [
    "df.rename(columns = {'0':'Game', '1':'Month', '2':'Day', '3':'Year', '4':'b1', '5':'b2', '6':'b3', '7':'b4', '8':'b5', '9':'PBall', '10':'PPlay_x'}, inplace=True)\n"
   ]
  },
  {
   "cell_type": "code",
   "execution_count": 6,
   "id": "ce3c4100",
   "metadata": {},
   "outputs": [],
   "source": [
    "df_cols = ['Game', 'Month', 'Day', 'Year', 'b1', 'b2', 'b3', 'b4', 'b5', 'PBall', 'PPlay_x']"
   ]
  },
  {
   "cell_type": "code",
   "execution_count": 7,
   "id": "261ea84a",
   "metadata": {},
   "outputs": [],
   "source": [
    "df.columns = df_cols\n"
   ]
  },
  {
   "cell_type": "code",
   "execution_count": 23,
   "id": "c83ca05e",
   "metadata": {},
   "outputs": [
    {
     "data": {
      "text/html": [
       "<div>\n",
       "<style scoped>\n",
       "    .dataframe tbody tr th:only-of-type {\n",
       "        vertical-align: middle;\n",
       "    }\n",
       "\n",
       "    .dataframe tbody tr th {\n",
       "        vertical-align: top;\n",
       "    }\n",
       "\n",
       "    .dataframe thead th {\n",
       "        text-align: right;\n",
       "    }\n",
       "</style>\n",
       "<table border=\"1\" class=\"dataframe\">\n",
       "  <thead>\n",
       "    <tr style=\"text-align: right;\">\n",
       "      <th></th>\n",
       "      <th>Game</th>\n",
       "      <th>Month</th>\n",
       "      <th>Day</th>\n",
       "      <th>Year</th>\n",
       "      <th>b1</th>\n",
       "      <th>b2</th>\n",
       "      <th>b3</th>\n",
       "      <th>b4</th>\n",
       "      <th>b5</th>\n",
       "      <th>PBall</th>\n",
       "      <th>PPlay_x</th>\n",
       "      <th>Date</th>\n",
       "    </tr>\n",
       "  </thead>\n",
       "  <tbody>\n",
       "    <tr>\n",
       "      <th>1394</th>\n",
       "      <td>Powerball</td>\n",
       "      <td>11</td>\n",
       "      <td>5</td>\n",
       "      <td>2022</td>\n",
       "      <td>69</td>\n",
       "      <td>53</td>\n",
       "      <td>45</td>\n",
       "      <td>56</td>\n",
       "      <td>28</td>\n",
       "      <td>20</td>\n",
       "      <td>3</td>\n",
       "      <td>2022-11-05</td>\n",
       "    </tr>\n",
       "    <tr>\n",
       "      <th>1395</th>\n",
       "      <td>Powerball</td>\n",
       "      <td>11</td>\n",
       "      <td>7</td>\n",
       "      <td>2022</td>\n",
       "      <td>56</td>\n",
       "      <td>41</td>\n",
       "      <td>33</td>\n",
       "      <td>47</td>\n",
       "      <td>10</td>\n",
       "      <td>10</td>\n",
       "      <td>2</td>\n",
       "      <td>2022-11-07</td>\n",
       "    </tr>\n",
       "    <tr>\n",
       "      <th>1396</th>\n",
       "      <td>Powerball</td>\n",
       "      <td>11</td>\n",
       "      <td>9</td>\n",
       "      <td>2022</td>\n",
       "      <td>14</td>\n",
       "      <td>24</td>\n",
       "      <td>7</td>\n",
       "      <td>30</td>\n",
       "      <td>56</td>\n",
       "      <td>7</td>\n",
       "      <td>2</td>\n",
       "      <td>2022-11-09</td>\n",
       "    </tr>\n",
       "    <tr>\n",
       "      <th>1397</th>\n",
       "      <td>Powerball</td>\n",
       "      <td>11</td>\n",
       "      <td>12</td>\n",
       "      <td>2022</td>\n",
       "      <td>58</td>\n",
       "      <td>57</td>\n",
       "      <td>20</td>\n",
       "      <td>44</td>\n",
       "      <td>16</td>\n",
       "      <td>6</td>\n",
       "      <td>4</td>\n",
       "      <td>2022-11-12</td>\n",
       "    </tr>\n",
       "    <tr>\n",
       "      <th>1398</th>\n",
       "      <td>Powerball</td>\n",
       "      <td>11</td>\n",
       "      <td>14</td>\n",
       "      <td>2022</td>\n",
       "      <td>54</td>\n",
       "      <td>67</td>\n",
       "      <td>19</td>\n",
       "      <td>53</td>\n",
       "      <td>35</td>\n",
       "      <td>21</td>\n",
       "      <td>2</td>\n",
       "      <td>2022-11-14</td>\n",
       "    </tr>\n",
       "    <tr>\n",
       "      <th>1399</th>\n",
       "      <td>Powerball</td>\n",
       "      <td>11</td>\n",
       "      <td>16</td>\n",
       "      <td>2022</td>\n",
       "      <td>53</td>\n",
       "      <td>56</td>\n",
       "      <td>28</td>\n",
       "      <td>34</td>\n",
       "      <td>51</td>\n",
       "      <td>11</td>\n",
       "      <td>2</td>\n",
       "      <td>2022-11-16</td>\n",
       "    </tr>\n",
       "    <tr>\n",
       "      <th>1400</th>\n",
       "      <td>Powerball</td>\n",
       "      <td>11</td>\n",
       "      <td>19</td>\n",
       "      <td>2022</td>\n",
       "      <td>62</td>\n",
       "      <td>63</td>\n",
       "      <td>28</td>\n",
       "      <td>7</td>\n",
       "      <td>64</td>\n",
       "      <td>10</td>\n",
       "      <td>3</td>\n",
       "      <td>2022-11-19</td>\n",
       "    </tr>\n",
       "    <tr>\n",
       "      <th>1401</th>\n",
       "      <td>Powerball</td>\n",
       "      <td>11</td>\n",
       "      <td>21</td>\n",
       "      <td>2022</td>\n",
       "      <td>1</td>\n",
       "      <td>67</td>\n",
       "      <td>51</td>\n",
       "      <td>40</td>\n",
       "      <td>6</td>\n",
       "      <td>2</td>\n",
       "      <td>2</td>\n",
       "      <td>2022-11-21</td>\n",
       "    </tr>\n",
       "    <tr>\n",
       "      <th>1402</th>\n",
       "      <td>Powerball</td>\n",
       "      <td>11</td>\n",
       "      <td>23</td>\n",
       "      <td>2022</td>\n",
       "      <td>31</td>\n",
       "      <td>2</td>\n",
       "      <td>1</td>\n",
       "      <td>39</td>\n",
       "      <td>66</td>\n",
       "      <td>25</td>\n",
       "      <td>2</td>\n",
       "      <td>2022-11-23</td>\n",
       "    </tr>\n",
       "    <tr>\n",
       "      <th>1403</th>\n",
       "      <td>Powerball</td>\n",
       "      <td>11</td>\n",
       "      <td>26</td>\n",
       "      <td>2022</td>\n",
       "      <td>15</td>\n",
       "      <td>30</td>\n",
       "      <td>47</td>\n",
       "      <td>50</td>\n",
       "      <td>51</td>\n",
       "      <td>3</td>\n",
       "      <td>10</td>\n",
       "      <td>2022-11-26</td>\n",
       "    </tr>\n",
       "  </tbody>\n",
       "</table>\n",
       "</div>"
      ],
      "text/plain": [
       "           Game Month Day  Year  b1  b2  b3  b4  b5 PBall PPlay_x       Date\n",
       "1394  Powerball    11   5  2022  69  53  45  56  28    20       3 2022-11-05\n",
       "1395  Powerball    11   7  2022  56  41  33  47  10    10       2 2022-11-07\n",
       "1396  Powerball    11   9  2022  14  24   7  30  56     7       2 2022-11-09\n",
       "1397  Powerball    11  12  2022  58  57  20  44  16     6       4 2022-11-12\n",
       "1398  Powerball    11  14  2022  54  67  19  53  35    21       2 2022-11-14\n",
       "1399  Powerball    11  16  2022  53  56  28  34  51    11       2 2022-11-16\n",
       "1400  Powerball    11  19  2022  62  63  28   7  64    10       3 2022-11-19\n",
       "1401  Powerball    11  21  2022   1  67  51  40   6     2       2 2022-11-21\n",
       "1402  Powerball    11  23  2022  31   2   1  39  66    25       2 2022-11-23\n",
       "1403  Powerball    11  26  2022  15  30  47  50  51     3      10 2022-11-26"
      ]
     },
     "execution_count": 23,
     "metadata": {},
     "output_type": "execute_result"
    }
   ],
   "source": [
    "df.tail(10)"
   ]
  },
  {
   "cell_type": "code",
   "execution_count": 9,
   "id": "8c58d52e",
   "metadata": {},
   "outputs": [
    {
     "data": {
      "text/plain": [
       "24    65\n",
       "18    60\n",
       "11    50\n",
       "13    50\n",
       "10    50\n",
       "25    50\n",
       "6     50\n",
       "4     49\n",
       "5     49\n",
       "19    49\n",
       "8     48\n",
       "26    47\n",
       "17    47\n",
       "3     46\n",
       "20    46\n",
       "7     46\n",
       "1     45\n",
       "14    45\n",
       "16    44\n",
       "15    44\n",
       "2     44\n",
       "21    43\n",
       "9     42\n",
       "22    41\n",
       "12    41\n",
       "23    40\n",
       "29    27\n",
       "33    22\n",
       "27    19\n",
       "32    16\n",
       "30    15\n",
       "35    15\n",
       "28    14\n",
       "34    13\n",
       "31    11\n",
       "36     7\n",
       "39     6\n",
       "38     5\n",
       "37     3\n",
       "Name: PBall, dtype: int64"
      ]
     },
     "execution_count": 9,
     "metadata": {},
     "output_type": "execute_result"
    }
   ],
   "source": [
    "df.PBall.sort_values().value_counts()"
   ]
  },
  {
   "cell_type": "code",
   "execution_count": 10,
   "id": "5c4f1c96",
   "metadata": {},
   "outputs": [],
   "source": [
    "cols=[\"Year\",\"Month\",\"Day\"]\n",
    "df['Date'] = df[cols].apply(lambda x: '-'.join(x.values.astype(str)), axis=\"columns\")\n"
   ]
  },
  {
   "cell_type": "code",
   "execution_count": 11,
   "id": "31d3afea",
   "metadata": {},
   "outputs": [
    {
     "data": {
      "text/html": [
       "<div>\n",
       "<style scoped>\n",
       "    .dataframe tbody tr th:only-of-type {\n",
       "        vertical-align: middle;\n",
       "    }\n",
       "\n",
       "    .dataframe tbody tr th {\n",
       "        vertical-align: top;\n",
       "    }\n",
       "\n",
       "    .dataframe thead th {\n",
       "        text-align: right;\n",
       "    }\n",
       "</style>\n",
       "<table border=\"1\" class=\"dataframe\">\n",
       "  <thead>\n",
       "    <tr style=\"text-align: right;\">\n",
       "      <th></th>\n",
       "      <th>Game</th>\n",
       "      <th>Month</th>\n",
       "      <th>Day</th>\n",
       "      <th>Year</th>\n",
       "      <th>b1</th>\n",
       "      <th>b2</th>\n",
       "      <th>b3</th>\n",
       "      <th>b4</th>\n",
       "      <th>b5</th>\n",
       "      <th>PBall</th>\n",
       "      <th>PPlay_x</th>\n",
       "      <th>Date</th>\n",
       "    </tr>\n",
       "  </thead>\n",
       "  <tbody>\n",
       "    <tr>\n",
       "      <th>1399</th>\n",
       "      <td>Powerball</td>\n",
       "      <td>11</td>\n",
       "      <td>16</td>\n",
       "      <td>2022</td>\n",
       "      <td>53</td>\n",
       "      <td>56</td>\n",
       "      <td>28</td>\n",
       "      <td>34</td>\n",
       "      <td>51</td>\n",
       "      <td>11</td>\n",
       "      <td>2</td>\n",
       "      <td>2022-11-16</td>\n",
       "    </tr>\n",
       "    <tr>\n",
       "      <th>1400</th>\n",
       "      <td>Powerball</td>\n",
       "      <td>11</td>\n",
       "      <td>19</td>\n",
       "      <td>2022</td>\n",
       "      <td>62</td>\n",
       "      <td>63</td>\n",
       "      <td>28</td>\n",
       "      <td>7</td>\n",
       "      <td>64</td>\n",
       "      <td>10</td>\n",
       "      <td>3</td>\n",
       "      <td>2022-11-19</td>\n",
       "    </tr>\n",
       "    <tr>\n",
       "      <th>1401</th>\n",
       "      <td>Powerball</td>\n",
       "      <td>11</td>\n",
       "      <td>21</td>\n",
       "      <td>2022</td>\n",
       "      <td>1</td>\n",
       "      <td>67</td>\n",
       "      <td>51</td>\n",
       "      <td>40</td>\n",
       "      <td>6</td>\n",
       "      <td>2</td>\n",
       "      <td>2</td>\n",
       "      <td>2022-11-21</td>\n",
       "    </tr>\n",
       "    <tr>\n",
       "      <th>1402</th>\n",
       "      <td>Powerball</td>\n",
       "      <td>11</td>\n",
       "      <td>23</td>\n",
       "      <td>2022</td>\n",
       "      <td>31</td>\n",
       "      <td>2</td>\n",
       "      <td>1</td>\n",
       "      <td>39</td>\n",
       "      <td>66</td>\n",
       "      <td>25</td>\n",
       "      <td>2</td>\n",
       "      <td>2022-11-23</td>\n",
       "    </tr>\n",
       "    <tr>\n",
       "      <th>1403</th>\n",
       "      <td>Powerball</td>\n",
       "      <td>11</td>\n",
       "      <td>26</td>\n",
       "      <td>2022</td>\n",
       "      <td>15</td>\n",
       "      <td>30</td>\n",
       "      <td>47</td>\n",
       "      <td>50</td>\n",
       "      <td>51</td>\n",
       "      <td>3</td>\n",
       "      <td>10</td>\n",
       "      <td>2022-11-26</td>\n",
       "    </tr>\n",
       "  </tbody>\n",
       "</table>\n",
       "</div>"
      ],
      "text/plain": [
       "           Game Month Day  Year  b1  b2  b3  b4  b5 PBall PPlay_x        Date\n",
       "1399  Powerball    11  16  2022  53  56  28  34  51    11       2  2022-11-16\n",
       "1400  Powerball    11  19  2022  62  63  28   7  64    10       3  2022-11-19\n",
       "1401  Powerball    11  21  2022   1  67  51  40   6     2       2  2022-11-21\n",
       "1402  Powerball    11  23  2022  31   2   1  39  66    25       2  2022-11-23\n",
       "1403  Powerball    11  26  2022  15  30  47  50  51     3      10  2022-11-26"
      ]
     },
     "execution_count": 11,
     "metadata": {},
     "output_type": "execute_result"
    }
   ],
   "source": [
    "df.tail(5)"
   ]
  },
  {
   "cell_type": "code",
   "execution_count": 12,
   "id": "0f9f7ab8",
   "metadata": {},
   "outputs": [],
   "source": [
    "# On October 4, 2015, the Powerball format changed again; \n",
    "# the white-ball pool increased from 59 to 69 while the \n",
    "# Powerball pool decreased from 35 to 26\n",
    "df['Date'] = pd.to_datetime(df['Date'])\n",
    "\n",
    "res = df[~(df['Date'] < '2015-10-04')]\n",
    "\n"
   ]
  },
  {
   "cell_type": "code",
   "execution_count": 13,
   "id": "1751761c",
   "metadata": {},
   "outputs": [
    {
     "data": {
      "text/html": [
       "<div>\n",
       "<style scoped>\n",
       "    .dataframe tbody tr th:only-of-type {\n",
       "        vertical-align: middle;\n",
       "    }\n",
       "\n",
       "    .dataframe tbody tr th {\n",
       "        vertical-align: top;\n",
       "    }\n",
       "\n",
       "    .dataframe thead th {\n",
       "        text-align: right;\n",
       "    }\n",
       "</style>\n",
       "<table border=\"1\" class=\"dataframe\">\n",
       "  <thead>\n",
       "    <tr style=\"text-align: right;\">\n",
       "      <th></th>\n",
       "      <th>Game</th>\n",
       "      <th>Month</th>\n",
       "      <th>Day</th>\n",
       "      <th>Year</th>\n",
       "      <th>b1</th>\n",
       "      <th>b2</th>\n",
       "      <th>b3</th>\n",
       "      <th>b4</th>\n",
       "      <th>b5</th>\n",
       "      <th>PBall</th>\n",
       "      <th>PPlay_x</th>\n",
       "      <th>Date</th>\n",
       "    </tr>\n",
       "  </thead>\n",
       "  <tbody>\n",
       "    <tr>\n",
       "      <th>0</th>\n",
       "      <td>Powerball</td>\n",
       "      <td>2</td>\n",
       "      <td>3</td>\n",
       "      <td>2010</td>\n",
       "      <td>37</td>\n",
       "      <td>52</td>\n",
       "      <td>22</td>\n",
       "      <td>36</td>\n",
       "      <td>17</td>\n",
       "      <td>24</td>\n",
       "      <td>2</td>\n",
       "      <td>2010-02-03</td>\n",
       "    </tr>\n",
       "    <tr>\n",
       "      <th>1</th>\n",
       "      <td>Powerball</td>\n",
       "      <td>2</td>\n",
       "      <td>6</td>\n",
       "      <td>2010</td>\n",
       "      <td>22</td>\n",
       "      <td>54</td>\n",
       "      <td>52</td>\n",
       "      <td>14</td>\n",
       "      <td>59</td>\n",
       "      <td>4</td>\n",
       "      <td>3</td>\n",
       "      <td>2010-02-06</td>\n",
       "    </tr>\n",
       "    <tr>\n",
       "      <th>2</th>\n",
       "      <td>Powerball</td>\n",
       "      <td>2</td>\n",
       "      <td>10</td>\n",
       "      <td>2010</td>\n",
       "      <td>29</td>\n",
       "      <td>8</td>\n",
       "      <td>37</td>\n",
       "      <td>38</td>\n",
       "      <td>5</td>\n",
       "      <td>34</td>\n",
       "      <td>5</td>\n",
       "      <td>2010-02-10</td>\n",
       "    </tr>\n",
       "    <tr>\n",
       "      <th>3</th>\n",
       "      <td>Powerball</td>\n",
       "      <td>2</td>\n",
       "      <td>13</td>\n",
       "      <td>2010</td>\n",
       "      <td>14</td>\n",
       "      <td>10</td>\n",
       "      <td>40</td>\n",
       "      <td>51</td>\n",
       "      <td>30</td>\n",
       "      <td>1</td>\n",
       "      <td>4</td>\n",
       "      <td>2010-02-13</td>\n",
       "    </tr>\n",
       "    <tr>\n",
       "      <th>4</th>\n",
       "      <td>Powerball</td>\n",
       "      <td>2</td>\n",
       "      <td>17</td>\n",
       "      <td>2010</td>\n",
       "      <td>36</td>\n",
       "      <td>7</td>\n",
       "      <td>26</td>\n",
       "      <td>8</td>\n",
       "      <td>19</td>\n",
       "      <td>15</td>\n",
       "      <td>3</td>\n",
       "      <td>2010-02-17</td>\n",
       "    </tr>\n",
       "  </tbody>\n",
       "</table>\n",
       "</div>"
      ],
      "text/plain": [
       "        Game Month Day  Year  b1  b2  b3  b4  b5 PBall PPlay_x       Date\n",
       "0  Powerball     2   3  2010  37  52  22  36  17    24       2 2010-02-03\n",
       "1  Powerball     2   6  2010  22  54  52  14  59     4       3 2010-02-06\n",
       "2  Powerball     2  10  2010  29   8  37  38   5    34       5 2010-02-10\n",
       "3  Powerball     2  13  2010  14  10  40  51  30     1       4 2010-02-13\n",
       "4  Powerball     2  17  2010  36   7  26   8  19    15       3 2010-02-17"
      ]
     },
     "execution_count": 13,
     "metadata": {},
     "output_type": "execute_result"
    }
   ],
   "source": [
    "df.head()"
   ]
  },
  {
   "cell_type": "code",
   "execution_count": 14,
   "id": "3db355af",
   "metadata": {},
   "outputs": [
    {
     "data": {
      "text/html": [
       "<div>\n",
       "<style scoped>\n",
       "    .dataframe tbody tr th:only-of-type {\n",
       "        vertical-align: middle;\n",
       "    }\n",
       "\n",
       "    .dataframe tbody tr th {\n",
       "        vertical-align: top;\n",
       "    }\n",
       "\n",
       "    .dataframe thead th {\n",
       "        text-align: right;\n",
       "    }\n",
       "</style>\n",
       "<table border=\"1\" class=\"dataframe\">\n",
       "  <thead>\n",
       "    <tr style=\"text-align: right;\">\n",
       "      <th></th>\n",
       "      <th>Game</th>\n",
       "      <th>Month</th>\n",
       "      <th>Day</th>\n",
       "      <th>Year</th>\n",
       "      <th>b1</th>\n",
       "      <th>b2</th>\n",
       "      <th>b3</th>\n",
       "      <th>b4</th>\n",
       "      <th>b5</th>\n",
       "      <th>PBall</th>\n",
       "      <th>PPlay_x</th>\n",
       "      <th>Date</th>\n",
       "    </tr>\n",
       "  </thead>\n",
       "  <tbody>\n",
       "    <tr>\n",
       "      <th>592</th>\n",
       "      <td>Powerball</td>\n",
       "      <td>10</td>\n",
       "      <td>7</td>\n",
       "      <td>2015</td>\n",
       "      <td>52</td>\n",
       "      <td>40</td>\n",
       "      <td>48</td>\n",
       "      <td>18</td>\n",
       "      <td>30</td>\n",
       "      <td>9</td>\n",
       "      <td>3</td>\n",
       "      <td>2015-10-07</td>\n",
       "    </tr>\n",
       "    <tr>\n",
       "      <th>593</th>\n",
       "      <td>Powerball</td>\n",
       "      <td>10</td>\n",
       "      <td>10</td>\n",
       "      <td>2015</td>\n",
       "      <td>27</td>\n",
       "      <td>68</td>\n",
       "      <td>12</td>\n",
       "      <td>43</td>\n",
       "      <td>29</td>\n",
       "      <td>1</td>\n",
       "      <td>2</td>\n",
       "      <td>2015-10-10</td>\n",
       "    </tr>\n",
       "    <tr>\n",
       "      <th>594</th>\n",
       "      <td>Powerball</td>\n",
       "      <td>10</td>\n",
       "      <td>14</td>\n",
       "      <td>2015</td>\n",
       "      <td>20</td>\n",
       "      <td>15</td>\n",
       "      <td>31</td>\n",
       "      <td>40</td>\n",
       "      <td>29</td>\n",
       "      <td>1</td>\n",
       "      <td>2</td>\n",
       "      <td>2015-10-14</td>\n",
       "    </tr>\n",
       "    <tr>\n",
       "      <th>595</th>\n",
       "      <td>Powerball</td>\n",
       "      <td>10</td>\n",
       "      <td>17</td>\n",
       "      <td>2015</td>\n",
       "      <td>57</td>\n",
       "      <td>62</td>\n",
       "      <td>69</td>\n",
       "      <td>49</td>\n",
       "      <td>48</td>\n",
       "      <td>19</td>\n",
       "      <td>3</td>\n",
       "      <td>2015-10-17</td>\n",
       "    </tr>\n",
       "    <tr>\n",
       "      <th>596</th>\n",
       "      <td>Powerball</td>\n",
       "      <td>10</td>\n",
       "      <td>21</td>\n",
       "      <td>2015</td>\n",
       "      <td>57</td>\n",
       "      <td>32</td>\n",
       "      <td>30</td>\n",
       "      <td>42</td>\n",
       "      <td>56</td>\n",
       "      <td>11</td>\n",
       "      <td>4</td>\n",
       "      <td>2015-10-21</td>\n",
       "    </tr>\n",
       "    <tr>\n",
       "      <th>597</th>\n",
       "      <td>Powerball</td>\n",
       "      <td>10</td>\n",
       "      <td>24</td>\n",
       "      <td>2015</td>\n",
       "      <td>20</td>\n",
       "      <td>31</td>\n",
       "      <td>56</td>\n",
       "      <td>64</td>\n",
       "      <td>60</td>\n",
       "      <td>2</td>\n",
       "      <td>3</td>\n",
       "      <td>2015-10-24</td>\n",
       "    </tr>\n",
       "    <tr>\n",
       "      <th>598</th>\n",
       "      <td>Powerball</td>\n",
       "      <td>10</td>\n",
       "      <td>28</td>\n",
       "      <td>2015</td>\n",
       "      <td>56</td>\n",
       "      <td>62</td>\n",
       "      <td>54</td>\n",
       "      <td>63</td>\n",
       "      <td>4</td>\n",
       "      <td>10</td>\n",
       "      <td>2</td>\n",
       "      <td>2015-10-28</td>\n",
       "    </tr>\n",
       "    <tr>\n",
       "      <th>599</th>\n",
       "      <td>Powerball</td>\n",
       "      <td>10</td>\n",
       "      <td>31</td>\n",
       "      <td>2015</td>\n",
       "      <td>9</td>\n",
       "      <td>47</td>\n",
       "      <td>20</td>\n",
       "      <td>25</td>\n",
       "      <td>68</td>\n",
       "      <td>7</td>\n",
       "      <td>2</td>\n",
       "      <td>2015-10-31</td>\n",
       "    </tr>\n",
       "    <tr>\n",
       "      <th>600</th>\n",
       "      <td>Powerball</td>\n",
       "      <td>11</td>\n",
       "      <td>4</td>\n",
       "      <td>2015</td>\n",
       "      <td>12</td>\n",
       "      <td>2</td>\n",
       "      <td>17</td>\n",
       "      <td>20</td>\n",
       "      <td>65</td>\n",
       "      <td>17</td>\n",
       "      <td>4</td>\n",
       "      <td>2015-11-04</td>\n",
       "    </tr>\n",
       "    <tr>\n",
       "      <th>601</th>\n",
       "      <td>Powerball</td>\n",
       "      <td>11</td>\n",
       "      <td>7</td>\n",
       "      <td>2015</td>\n",
       "      <td>50</td>\n",
       "      <td>53</td>\n",
       "      <td>7</td>\n",
       "      <td>16</td>\n",
       "      <td>25</td>\n",
       "      <td>15</td>\n",
       "      <td>2</td>\n",
       "      <td>2015-11-07</td>\n",
       "    </tr>\n",
       "  </tbody>\n",
       "</table>\n",
       "</div>"
      ],
      "text/plain": [
       "          Game Month Day  Year  b1  b2  b3  b4  b5 PBall PPlay_x       Date\n",
       "592  Powerball    10   7  2015  52  40  48  18  30     9       3 2015-10-07\n",
       "593  Powerball    10  10  2015  27  68  12  43  29     1       2 2015-10-10\n",
       "594  Powerball    10  14  2015  20  15  31  40  29     1       2 2015-10-14\n",
       "595  Powerball    10  17  2015  57  62  69  49  48    19       3 2015-10-17\n",
       "596  Powerball    10  21  2015  57  32  30  42  56    11       4 2015-10-21\n",
       "597  Powerball    10  24  2015  20  31  56  64  60     2       3 2015-10-24\n",
       "598  Powerball    10  28  2015  56  62  54  63   4    10       2 2015-10-28\n",
       "599  Powerball    10  31  2015   9  47  20  25  68     7       2 2015-10-31\n",
       "600  Powerball    11   4  2015  12   2  17  20  65    17       4 2015-11-04\n",
       "601  Powerball    11   7  2015  50  53   7  16  25    15       2 2015-11-07"
      ]
     },
     "execution_count": 14,
     "metadata": {},
     "output_type": "execute_result"
    }
   ],
   "source": [
    "res.head(10)\n",
    "\n"
   ]
  },
  {
   "cell_type": "code",
   "execution_count": 15,
   "id": "076f40af",
   "metadata": {},
   "outputs": [
    {
     "name": "stdout",
     "output_type": "stream",
     "text": [
      "<class 'pandas.core.frame.DataFrame'>\n",
      "Int64Index: 812 entries, 592 to 1403\n",
      "Data columns (total 12 columns):\n",
      " #   Column   Non-Null Count  Dtype         \n",
      "---  ------   --------------  -----         \n",
      " 0   Game     812 non-null    object        \n",
      " 1   Month    812 non-null    object        \n",
      " 2   Day      812 non-null    object        \n",
      " 3   Year     812 non-null    object        \n",
      " 4   b1       812 non-null    object        \n",
      " 5   b2       812 non-null    object        \n",
      " 6   b3       812 non-null    object        \n",
      " 7   b4       812 non-null    object        \n",
      " 8   b5       812 non-null    object        \n",
      " 9   PBall    812 non-null    object        \n",
      " 10  PPlay_x  812 non-null    object        \n",
      " 11  Date     812 non-null    datetime64[ns]\n",
      "dtypes: datetime64[ns](1), object(11)\n",
      "memory usage: 82.5+ KB\n"
     ]
    }
   ],
   "source": [
    "res.info()\n"
   ]
  },
  {
   "cell_type": "code",
   "execution_count": 16,
   "id": "f04c3d12",
   "metadata": {
    "scrolled": true
   },
   "outputs": [
    {
     "data": {
      "text/plain": [
       "32    21\n",
       "40    20\n",
       "61    18\n",
       "39    17\n",
       "7     17\n",
       "      ..\n",
       "51     7\n",
       "35     6\n",
       "60     6\n",
       "4      6\n",
       "34     4\n",
       "Name: b1, Length: 69, dtype: int64"
      ]
     },
     "execution_count": 16,
     "metadata": {},
     "output_type": "execute_result"
    }
   ],
   "source": [
    "res.b1.value_counts()\n"
   ]
  },
  {
   "cell_type": "code",
   "execution_count": 17,
   "id": "e0f5e9b4",
   "metadata": {},
   "outputs": [
    {
     "data": {
      "text/plain": [
       "<AxesSubplot:>"
      ]
     },
     "execution_count": 17,
     "metadata": {},
     "output_type": "execute_result"
    },
    {
     "data": {
      "image/png": "[encoded data removed]",
      "text/plain": [
       "<Figure size 432x288 with 1 Axes>"
      ]
     },
     "metadata": {
      "needs_background": "light"
     },
     "output_type": "display_data"
    }
   ],
   "source": [
    "# Top 20 b1 who created the most cards\n",
    "res['b1'].value_counts()[:20].plot(kind='barh')"
   ]
  },
  {
   "cell_type": "code",
   "execution_count": 18,
   "id": "fbc3e812",
   "metadata": {},
   "outputs": [
    {
     "data": {
      "text/plain": [
       "<AxesSubplot:>"
      ]
     },
     "execution_count": 18,
     "metadata": {},
     "output_type": "execute_result"
    },
    {
     "data": {
      "image/png": "[encoded data removed]",
      "text/plain": [
       "<Figure size 432x288 with 1 Axes>"
      ]
     },
     "metadata": {
      "needs_background": "light"
     },
     "output_type": "display_data"
    }
   ],
   "source": [
    "# Top 20 b21 who created the most cards\n",
    "res['b2'].value_counts()[:20].plot(kind='barh')"
   ]
  },
  {
   "cell_type": "code",
   "execution_count": 19,
   "id": "bd1d32c9",
   "metadata": {},
   "outputs": [
    {
     "data": {
      "text/plain": [
       "<AxesSubplot:>"
      ]
     },
     "execution_count": 19,
     "metadata": {},
     "output_type": "execute_result"
    },
    {
     "data": {
      "image/png": "[encoded data removed]",
      "text/plain": [
       "<Figure size 432x288 with 1 Axes>"
      ]
     },
     "metadata": {
      "needs_background": "light"
     },
     "output_type": "display_data"
    }
   ],
   "source": [
    "# Top 20 b3 who created the most cards\n",
    "res['b3'].value_counts()[:20].plot(kind='barh')"
   ]
  },
  {
   "cell_type": "code",
   "execution_count": 20,
   "id": "7ac205bb",
   "metadata": {},
   "outputs": [
    {
     "data": {
      "text/plain": [
       "<AxesSubplot:>"
      ]
     },
     "execution_count": 20,
     "metadata": {},
     "output_type": "execute_result"
    },
    {
     "data": {
      "image/png": "[encoded data removed]",
      "text/plain": [
       "<Figure size 432x288 with 1 Axes>"
      ]
     },
     "metadata": {
      "needs_background": "light"
     },
     "output_type": "display_data"
    }
   ],
   "source": [
    "# Top 20 b4 who created the most cards\n",
    "res['b4'].value_counts()[:20].plot(kind='barh')"
   ]
  },
  {
   "cell_type": "code",
   "execution_count": 21,
   "id": "83b5797d",
   "metadata": {},
   "outputs": [
    {
     "data": {
      "text/plain": [
       "<AxesSubplot:>"
      ]
     },
     "execution_count": 21,
     "metadata": {},
     "output_type": "execute_result"
    },
    {
     "data": {
      "image/png": "[encoded data removed]",
      "text/plain": [
       "<Figure size 432x288 with 1 Axes>"
      ]
     },
     "metadata": {
      "needs_background": "light"
     },
     "output_type": "display_data"
    }
   ],
   "source": [
    "# Top 20 b5 who created the most cards\n",
    "res['b5'].value_counts()[:20].plot(kind='barh')"
   ]
  },
  {
   "cell_type": "code",
   "execution_count": 22,
   "id": "5afc2980",
   "metadata": {},
   "outputs": [
    {
     "data": {
      "text/plain": [
       "<AxesSubplot:>"
      ]
     },
     "execution_count": 22,
     "metadata": {},
     "output_type": "execute_result"
    },
    {
     "data": {
      "image/png": "[encoded data removed]",
      "text/plain": [
       "<Figure size 432x288 with 1 Axes>"
      ]
     },
     "metadata": {
      "needs_background": "light"
     },
     "output_type": "display_data"
    }
   ],
   "source": [
    "# Top 20 PBall who created the most cards\n",
    "res['PBall'].value_counts()[:20].plot(kind='barh')"
   ]
  },
  {
   "cell_type": "code",
   "execution_count": null,
   "id": "ffa737af",
   "metadata": {},
   "outputs": [],
   "source": []
  }
 ],
 "metadata": {
  "kernelspec": {
   "display_name": "Python 3 (ipykernel)",
   "language": "python",
   "name": "python3"
  },
  "language_info": {
   "codemirror_mode": {
    "name": "ipython",
    "version": 3
   },
   "file_extension": ".py",
   "mimetype": "text/x-python",
   "name": "python",
   "nbconvert_exporter": "python",
   "pygments_lexer": "ipython3",
   "version": "3.9.7"
  }
 },
 "nbformat": 4,
 "nbformat_minor": 5
}
