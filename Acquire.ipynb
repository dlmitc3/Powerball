{
 "cells": [
  {
   "cell_type": "code",
   "execution_count": 1,
   "id": "b35fb5f4",
   "metadata": {},
   "outputs": [],
   "source": [
    "import requests\n",
    "from bs4 import BeautifulSoup\n",
    "import csv\n",
    "import urllib.request\n",
    "import codecs\n",
    "import pandas as pd\n"
   ]
  },
  {
   "cell_type": "code",
   "execution_count": 2,
   "id": "6da5d34c",
   "metadata": {},
   "outputs": [],
   "source": [
    "def powerball_data(): \n",
    "\n",
    "    link = 'https://www.txlottery.org/export/sites/lottery/Games/Powerball/Winning_Numbers/download.html'\n",
    "    r = requests.get(link)\n",
    "    soup = BeautifulSoup(r.text, \"html.parser\")\n",
    "    l= []\n",
    "    for i in soup.find_all('a'):\n",
    "        if i.get('href')!=None:\n",
    "            if i.get('href')[0]!= \"/\" and i.get('href')[-3:]== \"csv\":\n",
    "                link = (i.get('href'))\n",
    "\n",
    "    url = link\n",
    "    response = urllib.request.urlopen(url)\n",
    "    cr = csv.reader(codecs.iterdecode(response, 'utf-8'))\n",
    "    a=[]\n",
    "    for row in cr:\n",
    "        a.append(row)\n",
    "\n",
    "    data = pd.DataFrame(a)\n",
    "    return data"
   ]
  },
  {
   "cell_type": "code",
   "execution_count": 3,
   "id": "7b85a16e",
   "metadata": {
    "scrolled": true
   },
   "outputs": [
    {
     "data": {
      "text/html": [
       "<div>\n",
       "<style scoped>\n",
       "    .dataframe tbody tr th:only-of-type {\n",
       "        vertical-align: middle;\n",
       "    }\n",
       "\n",
       "    .dataframe tbody tr th {\n",
       "        vertical-align: top;\n",
       "    }\n",
       "\n",
       "    .dataframe thead th {\n",
       "        text-align: right;\n",
       "    }\n",
       "</style>\n",
       "<table border=\"1\" class=\"dataframe\">\n",
       "  <thead>\n",
       "    <tr style=\"text-align: right;\">\n",
       "      <th></th>\n",
       "      <th>0</th>\n",
       "      <th>1</th>\n",
       "      <th>2</th>\n",
       "      <th>3</th>\n",
       "      <th>4</th>\n",
       "      <th>5</th>\n",
       "      <th>6</th>\n",
       "      <th>7</th>\n",
       "      <th>8</th>\n",
       "      <th>9</th>\n",
       "      <th>10</th>\n",
       "    </tr>\n",
       "  </thead>\n",
       "  <tbody>\n",
       "    <tr>\n",
       "      <th>1385</th>\n",
       "      <td>Powerball</td>\n",
       "      <td>10</td>\n",
       "      <td>15</td>\n",
       "      <td>2022</td>\n",
       "      <td>32</td>\n",
       "      <td>62</td>\n",
       "      <td>40</td>\n",
       "      <td>58</td>\n",
       "      <td>37</td>\n",
       "      <td>15</td>\n",
       "      <td>5</td>\n",
       "    </tr>\n",
       "    <tr>\n",
       "      <th>1386</th>\n",
       "      <td>Powerball</td>\n",
       "      <td>10</td>\n",
       "      <td>17</td>\n",
       "      <td>2022</td>\n",
       "      <td>46</td>\n",
       "      <td>30</td>\n",
       "      <td>36</td>\n",
       "      <td>19</td>\n",
       "      <td>60</td>\n",
       "      <td>25</td>\n",
       "      <td>3</td>\n",
       "    </tr>\n",
       "    <tr>\n",
       "      <th>1387</th>\n",
       "      <td>Powerball</td>\n",
       "      <td>10</td>\n",
       "      <td>19</td>\n",
       "      <td>2022</td>\n",
       "      <td>27</td>\n",
       "      <td>42</td>\n",
       "      <td>15</td>\n",
       "      <td>8</td>\n",
       "      <td>6</td>\n",
       "      <td>10</td>\n",
       "      <td>3</td>\n",
       "    </tr>\n",
       "    <tr>\n",
       "      <th>1388</th>\n",
       "      <td>Powerball</td>\n",
       "      <td>10</td>\n",
       "      <td>22</td>\n",
       "      <td>2022</td>\n",
       "      <td>55</td>\n",
       "      <td>25</td>\n",
       "      <td>60</td>\n",
       "      <td>19</td>\n",
       "      <td>48</td>\n",
       "      <td>18</td>\n",
       "      <td>2</td>\n",
       "    </tr>\n",
       "    <tr>\n",
       "      <th>1389</th>\n",
       "      <td>Powerball</td>\n",
       "      <td>10</td>\n",
       "      <td>24</td>\n",
       "      <td>2022</td>\n",
       "      <td>23</td>\n",
       "      <td>45</td>\n",
       "      <td>54</td>\n",
       "      <td>35</td>\n",
       "      <td>18</td>\n",
       "      <td>16</td>\n",
       "      <td>4</td>\n",
       "    </tr>\n",
       "  </tbody>\n",
       "</table>\n",
       "</div>"
      ],
      "text/plain": [
       "             0   1   2     3   4   5   6   7   8   9  10\n",
       "1385  Powerball  10  15  2022  32  62  40  58  37  15  5\n",
       "1386  Powerball  10  17  2022  46  30  36  19  60  25  3\n",
       "1387  Powerball  10  19  2022  27  42  15   8   6  10  3\n",
       "1388  Powerball  10  22  2022  55  25  60  19  48  18  2\n",
       "1389  Powerball  10  24  2022  23  45  54  35  18  16  4"
      ]
     },
     "execution_count": 3,
     "metadata": {},
     "output_type": "execute_result"
    }
   ],
   "source": [
    "df = powerball_data()\n",
    "df.tail()"
   ]
  },
  {
   "cell_type": "code",
   "execution_count": 4,
   "id": "81009866",
   "metadata": {},
   "outputs": [
    {
     "data": {
      "text/plain": [
       "RangeIndex(start=0, stop=11, step=1)"
      ]
     },
     "execution_count": 4,
     "metadata": {},
     "output_type": "execute_result"
    }
   ],
   "source": [
    "df.columns\n"
   ]
  },
  {
   "cell_type": "code",
   "execution_count": 5,
   "id": "cb35cf3f",
   "metadata": {},
   "outputs": [],
   "source": [
    "df.rename(columns = {'0':'Game', '1':'Month', '2':'Day', '3':'Year', '4':'b1', '5':'b2', '6':'b3', '7':'b4', '8':'b5', '9':'PBall', '10':'PPlay_x'}, inplace=True)\n"
   ]
  },
  {
   "cell_type": "code",
   "execution_count": 6,
   "id": "d4f9774f",
   "metadata": {},
   "outputs": [],
   "source": [
    "df_cols = ['Game', 'Month', 'Day', 'Year', 'b1', 'b2', 'b3', 'b4', 'b5', 'PBall', 'PPlay_x']"
   ]
  },
  {
   "cell_type": "code",
   "execution_count": 7,
   "id": "1420340a",
   "metadata": {},
   "outputs": [],
   "source": [
    "df.columns = df_cols\n"
   ]
  },
  {
   "cell_type": "code",
   "execution_count": 8,
   "id": "dbac67a9",
   "metadata": {},
   "outputs": [
    {
     "data": {
      "text/html": [
       "<div>\n",
       "<style scoped>\n",
       "    .dataframe tbody tr th:only-of-type {\n",
       "        vertical-align: middle;\n",
       "    }\n",
       "\n",
       "    .dataframe tbody tr th {\n",
       "        vertical-align: top;\n",
       "    }\n",
       "\n",
       "    .dataframe thead th {\n",
       "        text-align: right;\n",
       "    }\n",
       "</style>\n",
       "<table border=\"1\" class=\"dataframe\">\n",
       "  <thead>\n",
       "    <tr style=\"text-align: right;\">\n",
       "      <th></th>\n",
       "      <th>Game</th>\n",
       "      <th>Month</th>\n",
       "      <th>Day</th>\n",
       "      <th>Year</th>\n",
       "      <th>b1</th>\n",
       "      <th>b2</th>\n",
       "      <th>b3</th>\n",
       "      <th>b4</th>\n",
       "      <th>b5</th>\n",
       "      <th>PBall</th>\n",
       "      <th>PPlay_x</th>\n",
       "    </tr>\n",
       "  </thead>\n",
       "  <tbody>\n",
       "    <tr>\n",
       "      <th>1385</th>\n",
       "      <td>Powerball</td>\n",
       "      <td>10</td>\n",
       "      <td>15</td>\n",
       "      <td>2022</td>\n",
       "      <td>32</td>\n",
       "      <td>62</td>\n",
       "      <td>40</td>\n",
       "      <td>58</td>\n",
       "      <td>37</td>\n",
       "      <td>15</td>\n",
       "      <td>5</td>\n",
       "    </tr>\n",
       "    <tr>\n",
       "      <th>1386</th>\n",
       "      <td>Powerball</td>\n",
       "      <td>10</td>\n",
       "      <td>17</td>\n",
       "      <td>2022</td>\n",
       "      <td>46</td>\n",
       "      <td>30</td>\n",
       "      <td>36</td>\n",
       "      <td>19</td>\n",
       "      <td>60</td>\n",
       "      <td>25</td>\n",
       "      <td>3</td>\n",
       "    </tr>\n",
       "    <tr>\n",
       "      <th>1387</th>\n",
       "      <td>Powerball</td>\n",
       "      <td>10</td>\n",
       "      <td>19</td>\n",
       "      <td>2022</td>\n",
       "      <td>27</td>\n",
       "      <td>42</td>\n",
       "      <td>15</td>\n",
       "      <td>8</td>\n",
       "      <td>6</td>\n",
       "      <td>10</td>\n",
       "      <td>3</td>\n",
       "    </tr>\n",
       "    <tr>\n",
       "      <th>1388</th>\n",
       "      <td>Powerball</td>\n",
       "      <td>10</td>\n",
       "      <td>22</td>\n",
       "      <td>2022</td>\n",
       "      <td>55</td>\n",
       "      <td>25</td>\n",
       "      <td>60</td>\n",
       "      <td>19</td>\n",
       "      <td>48</td>\n",
       "      <td>18</td>\n",
       "      <td>2</td>\n",
       "    </tr>\n",
       "    <tr>\n",
       "      <th>1389</th>\n",
       "      <td>Powerball</td>\n",
       "      <td>10</td>\n",
       "      <td>24</td>\n",
       "      <td>2022</td>\n",
       "      <td>23</td>\n",
       "      <td>45</td>\n",
       "      <td>54</td>\n",
       "      <td>35</td>\n",
       "      <td>18</td>\n",
       "      <td>16</td>\n",
       "      <td>4</td>\n",
       "    </tr>\n",
       "  </tbody>\n",
       "</table>\n",
       "</div>"
      ],
      "text/plain": [
       "           Game Month Day  Year  b1  b2  b3  b4  b5 PBall PPlay_x\n",
       "1385  Powerball    10  15  2022  32  62  40  58  37    15       5\n",
       "1386  Powerball    10  17  2022  46  30  36  19  60    25       3\n",
       "1387  Powerball    10  19  2022  27  42  15   8   6    10       3\n",
       "1388  Powerball    10  22  2022  55  25  60  19  48    18       2\n",
       "1389  Powerball    10  24  2022  23  45  54  35  18    16       4"
      ]
     },
     "execution_count": 8,
     "metadata": {},
     "output_type": "execute_result"
    }
   ],
   "source": [
    "df.tail(5)"
   ]
  },
  {
   "cell_type": "code",
   "execution_count": 9,
   "id": "46aa4e15",
   "metadata": {},
   "outputs": [
    {
     "data": {
      "text/plain": [
       "24    64\n",
       "18    60\n",
       "19    49\n",
       "25    49\n",
       "5     49\n",
       "6     49\n",
       "4     49\n",
       "13    49\n",
       "11    49\n",
       "8     48\n",
       "10    48\n",
       "17    47\n",
       "26    47\n",
       "3     45\n",
       "20    45\n",
       "7     45\n",
       "14    45\n",
       "1     45\n",
       "16    44\n",
       "15    44\n",
       "2     43\n",
       "9     42\n",
       "21    42\n",
       "12    41\n",
       "22    41\n",
       "23    38\n",
       "29    27\n",
       "33    22\n",
       "27    19\n",
       "32    16\n",
       "30    15\n",
       "35    15\n",
       "28    14\n",
       "34    13\n",
       "31    11\n",
       "36     7\n",
       "39     6\n",
       "38     5\n",
       "37     3\n",
       "Name: PBall, dtype: int64"
      ]
     },
     "execution_count": 9,
     "metadata": {},
     "output_type": "execute_result"
    }
   ],
   "source": [
    "df.PBall.sort_values().value_counts()"
   ]
  },
  {
   "cell_type": "code",
   "execution_count": 10,
   "id": "bf9b3741",
   "metadata": {},
   "outputs": [],
   "source": [
    "cols=[\"Year\",\"Month\",\"Day\"]\n",
    "df['Date'] = df[cols].apply(lambda x: '-'.join(x.values.astype(str)), axis=\"columns\")\n"
   ]
  },
  {
   "cell_type": "code",
   "execution_count": 11,
   "id": "0302938f",
   "metadata": {},
   "outputs": [
    {
     "data": {
      "text/html": [
       "<div>\n",
       "<style scoped>\n",
       "    .dataframe tbody tr th:only-of-type {\n",
       "        vertical-align: middle;\n",
       "    }\n",
       "\n",
       "    .dataframe tbody tr th {\n",
       "        vertical-align: top;\n",
       "    }\n",
       "\n",
       "    .dataframe thead th {\n",
       "        text-align: right;\n",
       "    }\n",
       "</style>\n",
       "<table border=\"1\" class=\"dataframe\">\n",
       "  <thead>\n",
       "    <tr style=\"text-align: right;\">\n",
       "      <th></th>\n",
       "      <th>Game</th>\n",
       "      <th>Month</th>\n",
       "      <th>Day</th>\n",
       "      <th>Year</th>\n",
       "      <th>b1</th>\n",
       "      <th>b2</th>\n",
       "      <th>b3</th>\n",
       "      <th>b4</th>\n",
       "      <th>b5</th>\n",
       "      <th>PBall</th>\n",
       "      <th>PPlay_x</th>\n",
       "      <th>Date</th>\n",
       "    </tr>\n",
       "  </thead>\n",
       "  <tbody>\n",
       "    <tr>\n",
       "      <th>1385</th>\n",
       "      <td>Powerball</td>\n",
       "      <td>10</td>\n",
       "      <td>15</td>\n",
       "      <td>2022</td>\n",
       "      <td>32</td>\n",
       "      <td>62</td>\n",
       "      <td>40</td>\n",
       "      <td>58</td>\n",
       "      <td>37</td>\n",
       "      <td>15</td>\n",
       "      <td>5</td>\n",
       "      <td>2022-10-15</td>\n",
       "    </tr>\n",
       "    <tr>\n",
       "      <th>1386</th>\n",
       "      <td>Powerball</td>\n",
       "      <td>10</td>\n",
       "      <td>17</td>\n",
       "      <td>2022</td>\n",
       "      <td>46</td>\n",
       "      <td>30</td>\n",
       "      <td>36</td>\n",
       "      <td>19</td>\n",
       "      <td>60</td>\n",
       "      <td>25</td>\n",
       "      <td>3</td>\n",
       "      <td>2022-10-17</td>\n",
       "    </tr>\n",
       "    <tr>\n",
       "      <th>1387</th>\n",
       "      <td>Powerball</td>\n",
       "      <td>10</td>\n",
       "      <td>19</td>\n",
       "      <td>2022</td>\n",
       "      <td>27</td>\n",
       "      <td>42</td>\n",
       "      <td>15</td>\n",
       "      <td>8</td>\n",
       "      <td>6</td>\n",
       "      <td>10</td>\n",
       "      <td>3</td>\n",
       "      <td>2022-10-19</td>\n",
       "    </tr>\n",
       "    <tr>\n",
       "      <th>1388</th>\n",
       "      <td>Powerball</td>\n",
       "      <td>10</td>\n",
       "      <td>22</td>\n",
       "      <td>2022</td>\n",
       "      <td>55</td>\n",
       "      <td>25</td>\n",
       "      <td>60</td>\n",
       "      <td>19</td>\n",
       "      <td>48</td>\n",
       "      <td>18</td>\n",
       "      <td>2</td>\n",
       "      <td>2022-10-22</td>\n",
       "    </tr>\n",
       "    <tr>\n",
       "      <th>1389</th>\n",
       "      <td>Powerball</td>\n",
       "      <td>10</td>\n",
       "      <td>24</td>\n",
       "      <td>2022</td>\n",
       "      <td>23</td>\n",
       "      <td>45</td>\n",
       "      <td>54</td>\n",
       "      <td>35</td>\n",
       "      <td>18</td>\n",
       "      <td>16</td>\n",
       "      <td>4</td>\n",
       "      <td>2022-10-24</td>\n",
       "    </tr>\n",
       "  </tbody>\n",
       "</table>\n",
       "</div>"
      ],
      "text/plain": [
       "           Game Month Day  Year  b1  b2  b3  b4  b5 PBall PPlay_x        Date\n",
       "1385  Powerball    10  15  2022  32  62  40  58  37    15       5  2022-10-15\n",
       "1386  Powerball    10  17  2022  46  30  36  19  60    25       3  2022-10-17\n",
       "1387  Powerball    10  19  2022  27  42  15   8   6    10       3  2022-10-19\n",
       "1388  Powerball    10  22  2022  55  25  60  19  48    18       2  2022-10-22\n",
       "1389  Powerball    10  24  2022  23  45  54  35  18    16       4  2022-10-24"
      ]
     },
     "execution_count": 11,
     "metadata": {},
     "output_type": "execute_result"
    }
   ],
   "source": [
    "df.tail(5)"
   ]
  },
  {
   "cell_type": "code",
   "execution_count": 12,
   "id": "2e9ad0c8",
   "metadata": {},
   "outputs": [],
   "source": [
    "# On October 4, 2015, the Powerball format changed again; \n",
    "# the white-ball pool increased from 59 to 69 while the \n",
    "# Powerball pool decreased from 35 to 26\n",
    "df['Date'] = pd.to_datetime(df['Date'])\n",
    "\n",
    "res = df[~(df['Date'] < '2015-10-04')]\n",
    "\n"
   ]
  },
  {
   "cell_type": "code",
   "execution_count": 14,
   "id": "cf9c4f90",
   "metadata": {},
   "outputs": [
    {
     "data": {
      "text/html": [
       "<div>\n",
       "<style scoped>\n",
       "    .dataframe tbody tr th:only-of-type {\n",
       "        vertical-align: middle;\n",
       "    }\n",
       "\n",
       "    .dataframe tbody tr th {\n",
       "        vertical-align: top;\n",
       "    }\n",
       "\n",
       "    .dataframe thead th {\n",
       "        text-align: right;\n",
       "    }\n",
       "</style>\n",
       "<table border=\"1\" class=\"dataframe\">\n",
       "  <thead>\n",
       "    <tr style=\"text-align: right;\">\n",
       "      <th></th>\n",
       "      <th>Game</th>\n",
       "      <th>Month</th>\n",
       "      <th>Day</th>\n",
       "      <th>Year</th>\n",
       "      <th>b1</th>\n",
       "      <th>b2</th>\n",
       "      <th>b3</th>\n",
       "      <th>b4</th>\n",
       "      <th>b5</th>\n",
       "      <th>PBall</th>\n",
       "      <th>PPlay_x</th>\n",
       "      <th>Date</th>\n",
       "    </tr>\n",
       "  </thead>\n",
       "  <tbody>\n",
       "    <tr>\n",
       "      <th>0</th>\n",
       "      <td>Powerball</td>\n",
       "      <td>2</td>\n",
       "      <td>3</td>\n",
       "      <td>2010</td>\n",
       "      <td>37</td>\n",
       "      <td>52</td>\n",
       "      <td>22</td>\n",
       "      <td>36</td>\n",
       "      <td>17</td>\n",
       "      <td>24</td>\n",
       "      <td>2</td>\n",
       "      <td>2010-02-03</td>\n",
       "    </tr>\n",
       "    <tr>\n",
       "      <th>1</th>\n",
       "      <td>Powerball</td>\n",
       "      <td>2</td>\n",
       "      <td>6</td>\n",
       "      <td>2010</td>\n",
       "      <td>22</td>\n",
       "      <td>54</td>\n",
       "      <td>52</td>\n",
       "      <td>14</td>\n",
       "      <td>59</td>\n",
       "      <td>4</td>\n",
       "      <td>3</td>\n",
       "      <td>2010-02-06</td>\n",
       "    </tr>\n",
       "    <tr>\n",
       "      <th>2</th>\n",
       "      <td>Powerball</td>\n",
       "      <td>2</td>\n",
       "      <td>10</td>\n",
       "      <td>2010</td>\n",
       "      <td>29</td>\n",
       "      <td>8</td>\n",
       "      <td>37</td>\n",
       "      <td>38</td>\n",
       "      <td>5</td>\n",
       "      <td>34</td>\n",
       "      <td>5</td>\n",
       "      <td>2010-02-10</td>\n",
       "    </tr>\n",
       "    <tr>\n",
       "      <th>3</th>\n",
       "      <td>Powerball</td>\n",
       "      <td>2</td>\n",
       "      <td>13</td>\n",
       "      <td>2010</td>\n",
       "      <td>14</td>\n",
       "      <td>10</td>\n",
       "      <td>40</td>\n",
       "      <td>51</td>\n",
       "      <td>30</td>\n",
       "      <td>1</td>\n",
       "      <td>4</td>\n",
       "      <td>2010-02-13</td>\n",
       "    </tr>\n",
       "    <tr>\n",
       "      <th>4</th>\n",
       "      <td>Powerball</td>\n",
       "      <td>2</td>\n",
       "      <td>17</td>\n",
       "      <td>2010</td>\n",
       "      <td>36</td>\n",
       "      <td>7</td>\n",
       "      <td>26</td>\n",
       "      <td>8</td>\n",
       "      <td>19</td>\n",
       "      <td>15</td>\n",
       "      <td>3</td>\n",
       "      <td>2010-02-17</td>\n",
       "    </tr>\n",
       "  </tbody>\n",
       "</table>\n",
       "</div>"
      ],
      "text/plain": [
       "        Game Month Day  Year  b1  b2  b3  b4  b5 PBall PPlay_x       Date\n",
       "0  Powerball     2   3  2010  37  52  22  36  17    24       2 2010-02-03\n",
       "1  Powerball     2   6  2010  22  54  52  14  59     4       3 2010-02-06\n",
       "2  Powerball     2  10  2010  29   8  37  38   5    34       5 2010-02-10\n",
       "3  Powerball     2  13  2010  14  10  40  51  30     1       4 2010-02-13\n",
       "4  Powerball     2  17  2010  36   7  26   8  19    15       3 2010-02-17"
      ]
     },
     "execution_count": 14,
     "metadata": {},
     "output_type": "execute_result"
    }
   ],
   "source": [
    "df.head()"
   ]
  },
  {
   "cell_type": "code",
   "execution_count": 15,
   "id": "c128aff7",
   "metadata": {},
   "outputs": [
    {
     "data": {
      "text/html": [
       "<div>\n",
       "<style scoped>\n",
       "    .dataframe tbody tr th:only-of-type {\n",
       "        vertical-align: middle;\n",
       "    }\n",
       "\n",
       "    .dataframe tbody tr th {\n",
       "        vertical-align: top;\n",
       "    }\n",
       "\n",
       "    .dataframe thead th {\n",
       "        text-align: right;\n",
       "    }\n",
       "</style>\n",
       "<table border=\"1\" class=\"dataframe\">\n",
       "  <thead>\n",
       "    <tr style=\"text-align: right;\">\n",
       "      <th></th>\n",
       "      <th>Game</th>\n",
       "      <th>Month</th>\n",
       "      <th>Day</th>\n",
       "      <th>Year</th>\n",
       "      <th>b1</th>\n",
       "      <th>b2</th>\n",
       "      <th>b3</th>\n",
       "      <th>b4</th>\n",
       "      <th>b5</th>\n",
       "      <th>PBall</th>\n",
       "      <th>PPlay_x</th>\n",
       "      <th>Date</th>\n",
       "    </tr>\n",
       "  </thead>\n",
       "  <tbody>\n",
       "    <tr>\n",
       "      <th>592</th>\n",
       "      <td>Powerball</td>\n",
       "      <td>10</td>\n",
       "      <td>7</td>\n",
       "      <td>2015</td>\n",
       "      <td>52</td>\n",
       "      <td>40</td>\n",
       "      <td>48</td>\n",
       "      <td>18</td>\n",
       "      <td>30</td>\n",
       "      <td>9</td>\n",
       "      <td>3</td>\n",
       "      <td>2015-10-07</td>\n",
       "    </tr>\n",
       "    <tr>\n",
       "      <th>593</th>\n",
       "      <td>Powerball</td>\n",
       "      <td>10</td>\n",
       "      <td>10</td>\n",
       "      <td>2015</td>\n",
       "      <td>27</td>\n",
       "      <td>68</td>\n",
       "      <td>12</td>\n",
       "      <td>43</td>\n",
       "      <td>29</td>\n",
       "      <td>1</td>\n",
       "      <td>2</td>\n",
       "      <td>2015-10-10</td>\n",
       "    </tr>\n",
       "    <tr>\n",
       "      <th>594</th>\n",
       "      <td>Powerball</td>\n",
       "      <td>10</td>\n",
       "      <td>14</td>\n",
       "      <td>2015</td>\n",
       "      <td>20</td>\n",
       "      <td>15</td>\n",
       "      <td>31</td>\n",
       "      <td>40</td>\n",
       "      <td>29</td>\n",
       "      <td>1</td>\n",
       "      <td>2</td>\n",
       "      <td>2015-10-14</td>\n",
       "    </tr>\n",
       "    <tr>\n",
       "      <th>595</th>\n",
       "      <td>Powerball</td>\n",
       "      <td>10</td>\n",
       "      <td>17</td>\n",
       "      <td>2015</td>\n",
       "      <td>57</td>\n",
       "      <td>62</td>\n",
       "      <td>69</td>\n",
       "      <td>49</td>\n",
       "      <td>48</td>\n",
       "      <td>19</td>\n",
       "      <td>3</td>\n",
       "      <td>2015-10-17</td>\n",
       "    </tr>\n",
       "    <tr>\n",
       "      <th>596</th>\n",
       "      <td>Powerball</td>\n",
       "      <td>10</td>\n",
       "      <td>21</td>\n",
       "      <td>2015</td>\n",
       "      <td>57</td>\n",
       "      <td>32</td>\n",
       "      <td>30</td>\n",
       "      <td>42</td>\n",
       "      <td>56</td>\n",
       "      <td>11</td>\n",
       "      <td>4</td>\n",
       "      <td>2015-10-21</td>\n",
       "    </tr>\n",
       "    <tr>\n",
       "      <th>597</th>\n",
       "      <td>Powerball</td>\n",
       "      <td>10</td>\n",
       "      <td>24</td>\n",
       "      <td>2015</td>\n",
       "      <td>20</td>\n",
       "      <td>31</td>\n",
       "      <td>56</td>\n",
       "      <td>64</td>\n",
       "      <td>60</td>\n",
       "      <td>2</td>\n",
       "      <td>3</td>\n",
       "      <td>2015-10-24</td>\n",
       "    </tr>\n",
       "    <tr>\n",
       "      <th>598</th>\n",
       "      <td>Powerball</td>\n",
       "      <td>10</td>\n",
       "      <td>28</td>\n",
       "      <td>2015</td>\n",
       "      <td>56</td>\n",
       "      <td>62</td>\n",
       "      <td>54</td>\n",
       "      <td>63</td>\n",
       "      <td>4</td>\n",
       "      <td>10</td>\n",
       "      <td>2</td>\n",
       "      <td>2015-10-28</td>\n",
       "    </tr>\n",
       "    <tr>\n",
       "      <th>599</th>\n",
       "      <td>Powerball</td>\n",
       "      <td>10</td>\n",
       "      <td>31</td>\n",
       "      <td>2015</td>\n",
       "      <td>9</td>\n",
       "      <td>47</td>\n",
       "      <td>20</td>\n",
       "      <td>25</td>\n",
       "      <td>68</td>\n",
       "      <td>7</td>\n",
       "      <td>2</td>\n",
       "      <td>2015-10-31</td>\n",
       "    </tr>\n",
       "    <tr>\n",
       "      <th>600</th>\n",
       "      <td>Powerball</td>\n",
       "      <td>11</td>\n",
       "      <td>4</td>\n",
       "      <td>2015</td>\n",
       "      <td>12</td>\n",
       "      <td>2</td>\n",
       "      <td>17</td>\n",
       "      <td>20</td>\n",
       "      <td>65</td>\n",
       "      <td>17</td>\n",
       "      <td>4</td>\n",
       "      <td>2015-11-04</td>\n",
       "    </tr>\n",
       "    <tr>\n",
       "      <th>601</th>\n",
       "      <td>Powerball</td>\n",
       "      <td>11</td>\n",
       "      <td>7</td>\n",
       "      <td>2015</td>\n",
       "      <td>50</td>\n",
       "      <td>53</td>\n",
       "      <td>7</td>\n",
       "      <td>16</td>\n",
       "      <td>25</td>\n",
       "      <td>15</td>\n",
       "      <td>2</td>\n",
       "      <td>2015-11-07</td>\n",
       "    </tr>\n",
       "  </tbody>\n",
       "</table>\n",
       "</div>"
      ],
      "text/plain": [
       "          Game Month Day  Year  b1  b2  b3  b4  b5 PBall PPlay_x       Date\n",
       "592  Powerball    10   7  2015  52  40  48  18  30     9       3 2015-10-07\n",
       "593  Powerball    10  10  2015  27  68  12  43  29     1       2 2015-10-10\n",
       "594  Powerball    10  14  2015  20  15  31  40  29     1       2 2015-10-14\n",
       "595  Powerball    10  17  2015  57  62  69  49  48    19       3 2015-10-17\n",
       "596  Powerball    10  21  2015  57  32  30  42  56    11       4 2015-10-21\n",
       "597  Powerball    10  24  2015  20  31  56  64  60     2       3 2015-10-24\n",
       "598  Powerball    10  28  2015  56  62  54  63   4    10       2 2015-10-28\n",
       "599  Powerball    10  31  2015   9  47  20  25  68     7       2 2015-10-31\n",
       "600  Powerball    11   4  2015  12   2  17  20  65    17       4 2015-11-04\n",
       "601  Powerball    11   7  2015  50  53   7  16  25    15       2 2015-11-07"
      ]
     },
     "execution_count": 15,
     "metadata": {},
     "output_type": "execute_result"
    }
   ],
   "source": [
    "res.head(10)\n",
    "\n"
   ]
  },
  {
   "cell_type": "code",
   "execution_count": 17,
   "id": "fe52ad66",
   "metadata": {},
   "outputs": [
    {
     "name": "stdout",
     "output_type": "stream",
     "text": [
      "<class 'pandas.core.frame.DataFrame'>\n",
      "Int64Index: 798 entries, 592 to 1389\n",
      "Data columns (total 12 columns):\n",
      " #   Column   Non-Null Count  Dtype         \n",
      "---  ------   --------------  -----         \n",
      " 0   Game     798 non-null    object        \n",
      " 1   Month    798 non-null    object        \n",
      " 2   Day      798 non-null    object        \n",
      " 3   Year     798 non-null    object        \n",
      " 4   b1       798 non-null    object        \n",
      " 5   b2       798 non-null    object        \n",
      " 6   b3       798 non-null    object        \n",
      " 7   b4       798 non-null    object        \n",
      " 8   b5       798 non-null    object        \n",
      " 9   PBall    798 non-null    object        \n",
      " 10  PPlay_x  798 non-null    object        \n",
      " 11  Date     798 non-null    datetime64[ns]\n",
      "dtypes: datetime64[ns](1), object(11)\n",
      "memory usage: 81.0+ KB\n"
     ]
    }
   ],
   "source": [
    "res.info()\n"
   ]
  },
  {
   "cell_type": "code",
   "execution_count": 20,
   "id": "bff74c28",
   "metadata": {
    "scrolled": true
   },
   "outputs": [
    {
     "data": {
      "text/plain": [
       "32    21\n",
       "40    19\n",
       "61    18\n",
       "7     17\n",
       "36    17\n",
       "      ..\n",
       "51     7\n",
       "35     6\n",
       "60     6\n",
       "4      6\n",
       "34     4\n",
       "Name: b1, Length: 69, dtype: int64"
      ]
     },
     "execution_count": 20,
     "metadata": {},
     "output_type": "execute_result"
    }
   ],
   "source": [
    "res.b1.value_counts()\n"
   ]
  },
  {
   "cell_type": "code",
   "execution_count": 22,
   "id": "d7b7ff58",
   "metadata": {},
   "outputs": [
    {
     "data": {
      "text/plain": [
       "<AxesSubplot:>"
      ]
     },
     "execution_count": 22,
     "metadata": {},
     "output_type": "execute_result"
    },
    {
     "data": {
      "image/png": "[encoded data removed]",
      "text/plain": [
       "<Figure size 432x288 with 1 Axes>"
      ]
     },
     "metadata": {
      "needs_background": "light"
     },
     "output_type": "display_data"
    }
   ],
   "source": [
    "# Top 20 b1 who created the most cards\n",
    "res['b1'].value_counts()[:20].plot(kind='barh')"
   ]
  },
  {
   "cell_type": "code",
   "execution_count": 23,
   "id": "5a6376e6",
   "metadata": {},
   "outputs": [
    {
     "data": {
      "text/plain": [
       "<AxesSubplot:>"
      ]
     },
     "execution_count": 23,
     "metadata": {},
     "output_type": "execute_result"
    },
    {
     "data": {
      "image/png": "[encoded data removed]",
      "text/plain": [
       "<Figure size 432x288 with 1 Axes>"
      ]
     },
     "metadata": {
      "needs_background": "light"
     },
     "output_type": "display_data"
    }
   ],
   "source": [
    "# Top 20 b21 who created the most cards\n",
    "res['b2'].value_counts()[:20].plot(kind='barh')"
   ]
  },
  {
   "cell_type": "code",
   "execution_count": 24,
   "id": "93703010",
   "metadata": {},
   "outputs": [
    {
     "data": {
      "text/plain": [
       "<AxesSubplot:>"
      ]
     },
     "execution_count": 24,
     "metadata": {},
     "output_type": "execute_result"
    },
    {
     "data": {
      "image/png": "[encoded data removed]",
      "text/plain": [
       "<Figure size 432x288 with 1 Axes>"
      ]
     },
     "metadata": {
      "needs_background": "light"
     },
     "output_type": "display_data"
    }
   ],
   "source": [
    "# Top 20 b3 who created the most cards\n",
    "res['b3'].value_counts()[:20].plot(kind='barh')"
   ]
  },
  {
   "cell_type": "code",
   "execution_count": 25,
   "id": "55ad0dde",
   "metadata": {},
   "outputs": [
    {
     "data": {
      "text/plain": [
       "<AxesSubplot:>"
      ]
     },
     "execution_count": 25,
     "metadata": {},
     "output_type": "execute_result"
    },
    {
     "data": {
      "image/png": "[encoded data removed]",
      "text/plain": [
       "<Figure size 432x288 with 1 Axes>"
      ]
     },
     "metadata": {
      "needs_background": "light"
     },
     "output_type": "display_data"
    }
   ],
   "source": [
    "# Top 20 b4 who created the most cards\n",
    "res['b4'].value_counts()[:20].plot(kind='barh')"
   ]
  },
  {
   "cell_type": "code",
   "execution_count": 26,
   "id": "c6f9aca2",
   "metadata": {},
   "outputs": [
    {
     "data": {
      "text/plain": [
       "<AxesSubplot:>"
      ]
     },
     "execution_count": 26,
     "metadata": {},
     "output_type": "execute_result"
    },
    {
     "data": {
      "image/png": "[encoded data removed]",
      "text/plain": [
       "<Figure size 432x288 with 1 Axes>"
      ]
     },
     "metadata": {
      "needs_background": "light"
     },
     "output_type": "display_data"
    }
   ],
   "source": [
    "# Top 20 b5 who created the most cards\n",
    "res['b5'].value_counts()[:20].plot(kind='barh')"
   ]
  },
  {
   "cell_type": "code",
   "execution_count": 21,
   "id": "7bdc91a9",
   "metadata": {},
   "outputs": [
    {
     "data": {
      "text/plain": [
       "<AxesSubplot:>"
      ]
     },
     "execution_count": 21,
     "metadata": {},
     "output_type": "execute_result"
    },
    {
     "data": {
      "image/png": "[encoded data removed]",
      "text/plain": [
       "<Figure size 432x288 with 1 Axes>"
      ]
     },
     "metadata": {
      "needs_background": "light"
     },
     "output_type": "display_data"
    }
   ],
   "source": [
    "# Top 20 PBall who created the most cards\n",
    "res['PBall'].value_counts()[:20].plot(kind='barh')"
   ]
  },
  {
   "cell_type": "code",
   "execution_count": null,
   "id": "2b9ccc25",
   "metadata": {},
   "outputs": [],
   "source": []
  }
 ],
 "metadata": {
  "kernelspec": {
   "display_name": "Python 3 (ipykernel)",
   "language": "python",
   "name": "python3"
  },
  "language_info": {
   "codemirror_mode": {
    "name": "ipython",
    "version": 3
   },
   "file_extension": ".py",
   "mimetype": "text/x-python",
   "name": "python",
   "nbconvert_exporter": "python",
   "pygments_lexer": "ipython3",
   "version": "3.9.7"
  }
 },
 "nbformat": 4,
 "nbformat_minor": 5
}
